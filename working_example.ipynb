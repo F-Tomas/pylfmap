{
 "cells": [
  {
   "cell_type": "code",
   "execution_count": null,
   "metadata": {},
   "outputs": [],
   "source": [
    "from IPython.display import HTML\n",
    "# HTML(\n",
    "#     \"\"\"<script>code_show=true;function code_toggle()\n",
    "# {if (code_show){$('div.input').hide();} \n",
    "# else{$('div.input').show();}code_show = !code_show}$( document ).ready(code_toggle);\n",
    "# </script><em>The raw code in this jupyter notebook is hidden by default for easier reading.\n",
    "# To toggle on/off the raw code, click <a href=\"javascript:code_toggle()\">here</,!a></em>.\"\"\"\n",
    "# )"
   ]
  },
  {
   "cell_type": "code",
   "execution_count": null,
   "metadata": {},
   "outputs": [],
   "source": [
    "HTML(\"\"\"\n",
    "<style>\n",
    "\n",
    "div.cell { /* Tunes the space between cells */\n",
    "margin-top:5px;\n",
    "margin-bottom:10px;\n",
    "}\n",
    "\n",
    "div.text_cell_render { /* Customize text cells */\n",
    "font-family: 'Times New Roman';\n",
    "font-size:20px;\n",
    "line-height:1.4em;\n",
    "padding-left:3em;\n",
    "padding-right:3em;\n",
    "}\n",
    "</style>\n",
    "\"\"\")"
   ]
  },
  {
   "cell_type": "code",
   "execution_count": null,
   "metadata": {},
   "outputs": [],
   "source": [
    "# general modules\n",
    "import numpy as np\n",
    "import sys\n",
    "\n",
    "import matplotlib.pyplot as plt\n",
    "import subprocess\n",
    "from pylfmap import LFmap"
   ]
  },
  {
   "cell_type": "code",
   "execution_count": null,
   "metadata": {},
   "outputs": [],
   "source": [
    "# these modules are for crosschecks\n",
    "from PyAstronomy import pyasl\n",
    "import astropy\n",
    "from astropy.coordinates import (\n",
    "    SkyCoord,\n",
    "    EarthLocation,\n",
    "    AltAz,\n",
    "    BaseCoordinateFrame,\n",
    "    Galactic,\n",
    ")\n",
    "from astropy import units as u\n",
    "\n",
    "# function for checking of the transformation rightness\n",
    "def convertEquatorial2GalacticAndLocal(equatorialCoordinates, LST=None, altitude=None, **kwargs):\n",
    "    ra, dec = equatorialCoordinates\n",
    "    label = kwargs.get(\"label\", None)\n",
    "    print(label)\n",
    "    gc = SkyCoord(ra=ra * u.degree, dec=dec * u.degree, frame=\"fk5\")\n",
    "    print(gc.galactic)\n",
    "    print(\"RA:\", ra, \" \", \"DEC:\", dec)\n",
    "    ha = LST * 15 - ra\n",
    "    localCordinates = pyasl.hadec2altaz(ha, dec, -35.206667, ws=False, radian=False)\n",
    "    print(\"ALT, AZ \", localCordinates)\n",
    "    return gc.galactic, localCordinates"
   ]
  },
  {
   "cell_type": "markdown",
   "metadata": {},
   "source": [
    "Import Polisensky's LFmap as a class  (you need to run the script LFmap_healpyFitsConvertorAndGenerator.py inside the LFmap software folder to generate and convert the fits format to healpy fits format)."
   ]
  },
  {
   "cell_type": "code",
   "execution_count": null,
   "metadata": {},
   "outputs": [],
   "source": [
    "# healpy as the manipulation tool\n",
    "import healpy as hp\n",
    "\n",
    "# the upgraded newvisufunc is not yet in the official release\n",
    "# current it is a pull request https://github.com/healpy/healpy/pull/648\n",
    "from healpy.newvisufunc import projview"
   ]
  },
  {
   "cell_type": "markdown",
   "metadata": {},
   "source": [
    "## Map loading\n",
    "For the Polisensky's LFmaps you first have to convert the fits maps to healpy fits maps, to\n",
    "run LFmap_healpyFitsConvertorAndGenerator.py in the LFmap folder."
   ]
  },
  {
   "cell_type": "code",
   "execution_count": null,
   "metadata": {},
   "outputs": [],
   "source": [
    "# for map from LFmap, these are by default generated in Celestial coordinated\n",
    "# beware that pygdsm maps are on contrary by default in Galactic coordinates\n",
    "g_LFmap = LFmap()"
   ]
  },
  {
   "cell_type": "markdown",
   "metadata": {},
   "source": [
    "If you want to save the plots just add these line after the plot: <br>\n",
    "plt.subplots_adjust(bottom=0.15,top=0.92) <br>\n",
    "plt.savefig('./saveFolder/savedFile.png', facecolor='w', transparent=False) <br>\n",
    "plt.close() <br>\n",
    "Of course set the borders and file name as you like."
   ]
  },
  {
   "cell_type": "code",
   "execution_count": null,
   "metadata": {},
   "outputs": [],
   "source": [
    "cmap = \"jet\""
   ]
  },
  {
   "cell_type": "markdown",
   "metadata": {},
   "source": [
    "## Select frequency of interest"
   ]
  },
  {
   "cell_type": "code",
   "execution_count": null,
   "metadata": {},
   "outputs": [],
   "source": [
    "map_LFmap = np.log(g_LFmap.generate(45.0))\n",
    "map_LFmap_title = \"LFmap\""
   ]
  },
  {
   "attachments": {},
   "cell_type": "markdown",
   "metadata": {},
   "source": [
    "## Galactic coordinate system"
   ]
  },
  {
   "cell_type": "code",
   "execution_count": null,
   "metadata": {},
   "outputs": [],
   "source": [
    "# mollweide projections\n",
    "\n",
    "projview(\n",
    "    map_LFmap,\n",
    "    coord=[\"G\"],\n",
    "    graticule=True,\n",
    "    graticule_labels=True,\n",
    "    unit=\"Temperature ln[K]\",\n",
    "    xlabel=\"l\",\n",
    "    ylabel=\"b\",\n",
    "    cb_orientation=\"vertical\",\n",
    "    min=8.4,\n",
    "    max=11.5,\n",
    "    latitude_grid_spacing=30,\n",
    "    projection_type=\"mollweide\",\n",
    "    title=map_LFmap_title + \" - Galactic coordinates\",\n",
    "    xtick_label_color=\"white\",\n",
    "    cmap=cmap,\n",
    ")"
   ]
  },
  {
   "cell_type": "markdown",
   "metadata": {},
   "source": [
    "## Equatorial coordinate system\n",
    "Now the LFSS map has to be converted to celestioan (coord=['G','C']) and Polisensky's LFmap is fine."
   ]
  },
  {
   "cell_type": "code",
   "execution_count": null,
   "metadata": {},
   "outputs": [],
   "source": [
    "# Equatorial coordinates\n",
    "\n",
    "projview(\n",
    "    map_LFmap,\n",
    "    coord=['G',\"C\"],\n",
    "    graticule=True,\n",
    "    graticule_labels=True,\n",
    "    unit=\"Temperature ln[K]\",\n",
    "    xlabel=\"RA\",\n",
    "    ylabel=\"DEC\",\n",
    "    cb_orientation=\"vertical\",\n",
    "    min=8.4,\n",
    "    max=11.5,\n",
    "    latitude_grid_spacing=30,\n",
    "    projection_type=\"mollweide\",\n",
    "    title=map_LFmap_title + \" - Equatorial coordinates\",\n",
    "    xtick_label_color=\"white\",\n",
    "    cmap=cmap,\n",
    ")"
   ]
  },
  {
   "cell_type": "markdown",
   "metadata": {},
   "source": [
    "## Local coordinate system\n",
    "<p style='text-align: justify;'>\n",
    "The coordinate transformation is done from Equatorial coordinate system to local. So, make sure that both maps\n",
    "are in Equatorial coordinate system when the rotation is perform. In the case of LFSS maps this means \n",
    "coord=['G','C'], and for Polisensky's maps just coord=['C']. The transformation to the local coordinate\n",
    "system is done by Euler' rotation (ZYX). The rotation along the Z axis is given by the LST hourangle \n",
    "(LST hour times 15$^\\circ$). The rotation along the Y is given by 90$^\\circ$ + altitude of the local \n",
    "place.\n",
    "   </p>"
   ]
  },
  {
   "cell_type": "code",
   "execution_count": null,
   "metadata": {},
   "outputs": [],
   "source": [
    "LSTtime = 18\n",
    "altitude = -35.206667"
   ]
  },
  {
   "cell_type": "code",
   "execution_count": null,
   "metadata": {
    "scrolled": false
   },
   "outputs": [],
   "source": [
    "# Local coordinates at LST time \"LSTtime\" at altitude \"altitude\"\n",
    "rotAngles = [(180 + (LSTtime * 15)) % 360, -(altitude - 90)]\n",
    "\n",
    "projview(\n",
    "    map_LFmap,\n",
    "    rot=rotAngles,\n",
    "    coord=[\"G\",\"C\"],\n",
    "    graticule=True,\n",
    "    graticule_labels=True,\n",
    "    unit=\"Temperature ln[K]\",\n",
    "    xlabel=\"azimuth\",\n",
    "    ylabel=\"altitude\",\n",
    "    cb_orientation=\"vertical\",\n",
    "    min=8.4,\n",
    "    max=11.5,\n",
    "    latitude_grid_spacing=30,\n",
    "    projection_type=\"mollweide\",\n",
    "    title=map_LFmap_title + \" - Local coordinates\",\n",
    "    xtick_label_color=\"white\",\n",
    "    cmap=cmap,\n",
    ")"
   ]
  },
  {
   "cell_type": "markdown",
   "metadata": {},
   "source": [
    "## Cartesian coordinate system (Galactic, Equatorial and local system)"
   ]
  },
  {
   "cell_type": "code",
   "execution_count": null,
   "metadata": {},
   "outputs": [],
   "source": [
    "# Cartesian projections\n",
    "\n",
    "projview(\n",
    "    map_LFmap,\n",
    "    coord=[\"G\"],\n",
    "    graticule=True,\n",
    "    graticule_labels=True,\n",
    "    unit=\"Temperature ln[K]\",\n",
    "    xlabel=\"l\",\n",
    "    ylabel=\"b\",\n",
    "    cb_orientation=\"vertical\",\n",
    "    min=8.4,\n",
    "    max=11.5,\n",
    "    latitude_grid_spacing=30,\n",
    "    projection_type=\"cart\",\n",
    "    title=map_LFmap_title + \" - Galactic coordinates\",\n",
    "    cmap=cmap,\n",
    ")"
   ]
  },
  {
   "cell_type": "code",
   "execution_count": null,
   "metadata": {},
   "outputs": [],
   "source": [
    "# Equatorial coordinates\n",
    "\n",
    "projview(\n",
    "    map_LFmap,\n",
    "    coord=[\"G\",\"C\"],\n",
    "    graticule=True,\n",
    "    graticule_labels=True,\n",
    "    unit=\"Temperature ln[K]\",\n",
    "    xlabel=\"RA\",\n",
    "    ylabel=\"DEC\",\n",
    "    cb_orientation=\"vertical\",\n",
    "    min=8.4,\n",
    "    max=11.5,\n",
    "    latitude_grid_spacing=30,\n",
    "    projection_type=\"cart\",\n",
    "    title=map_LFmap_title + \" - Equatorial coordinates\",\n",
    "    xtick_label_color=\"white\",\n",
    "    cmap=cmap,\n",
    ")"
   ]
  },
  {
   "cell_type": "code",
   "execution_count": null,
   "metadata": {},
   "outputs": [],
   "source": [
    "LSTtime = 18\n",
    "# FYI PAO is at -35.2 altitude\n",
    "altitude = -35.206667"
   ]
  },
  {
   "cell_type": "code",
   "execution_count": null,
   "metadata": {
    "scrolled": false
   },
   "outputs": [],
   "source": [
    "# Local coordinates at LST time \"LSTtime\" at altitude \"altitude\"\n",
    "rotAngles = [(180 + (LSTtime * 15)) % 360, -(altitude - 90)]\n",
    "\n",
    "projview(\n",
    "    map_LFmap,\n",
    "    rot=rotAngles,\n",
    "    coord=[\"G\",\"C\"],\n",
    "    graticule=True,\n",
    "    graticule_labels=True,\n",
    "    unit=\"Temperature ln[K]\",\n",
    "    xlabel=\"azimuth\",\n",
    "    ylabel=\"altitude\",\n",
    "    cb_orientation=\"vertical\",\n",
    "    min=8.4,\n",
    "    max=11.5,\n",
    "    latitude_grid_spacing=30,\n",
    "    projection_type=\"cart\",\n",
    "    title=map_LFmap_title + \" - Local coordinates\",\n",
    "    xtick_label_color=\"white\",\n",
    "    cmap=cmap,\n",
    ")"
   ]
  },
  {
   "cell_type": "markdown",
   "metadata": {},
   "source": [
    "## Cross-checks\n",
    "\n",
    "<p style='text-align: justify;'>\n",
    "The idea is to find point sources on the maps, calculate their coordinates in Galactic, Equatorial and Local\n",
    "coordinate systems and check if the positions are the same on the plotted maps. (Yes, they are).\n",
    "The values of the point sources are from Wiki, so they do not 100% correspond to the positions on the plots.\n",
    "Check the original LFSS LF map reference paper \n",
    "https://www.mdpi.com/galaxies/galaxies-06-00056/article_deploy/html/images/galaxies-06-00056-g004.png\n",
    "  </p>"
   ]
  },
  {
   "cell_type": "code",
   "execution_count": null,
   "metadata": {},
   "outputs": [],
   "source": [
    "# cross checks with different tools\n",
    "LSTtime=18\n",
    "\n",
    "cygnusEquatorialCoordinates = (\n",
    "    (19 + 58 / 60 + 21.67 / 3600) * 15,\n",
    "    35 + 12 / 60 + 5.78 / 3600,\n",
    ")\n",
    "cygnusGalacticCoordinates, cygnusLocalCoordinates = convertEquatorial2GalacticAndLocal(\n",
    "    cygnusEquatorialCoordinates, LST=LSTtime, altitude=altitude, label=\"Cygnus\"\n",
    ")\n",
    "\n",
    "casiopeaEquatorialCoordinates = ((23 + 23 / 60 + 24 / 3600) * 15, 58 + 48.9 / 60)\n",
    "(\n",
    "    casiopeaGalacticCoordinates,\n",
    "    casiopeaLocalCoordinates,\n",
    ") = convertEquatorial2GalacticAndLocal(\n",
    "    casiopeaEquatorialCoordinates, LST=LSTtime, altitude=altitude, label=\"Casiopea\"\n",
    ")\n",
    "\n",
    "velaEquatorialCoordinates = ((9) * 15, -50)\n",
    "velaGalacticCoordinates, velaLocalCoordinates = convertEquatorial2GalacticAndLocal(\n",
    "    velaEquatorialCoordinates, LST=LSTtime, altitude=altitude, label=\"Vela\"\n",
    ")\n",
    "\n",
    "centaurusEquatorialCoordinates = ((13 + 25 / 60 + 5 / 3600) * 15, -43 + 1 / 60)\n",
    "(\n",
    "    centaurusGalacticCoordinates,\n",
    "    centaurusLocalCoordinates,\n",
    ") = convertEquatorial2GalacticAndLocal(\n",
    "    centaurusEquatorialCoordinates, LST=LSTtime, altitude=altitude, label=\"Centaurus A\"\n",
    ")\n",
    "\n",
    "LMCEquatorialCoordinates = ((5 + +23 / 60 + 34 / 3600) * 15, -69 + 45 / 60 + 22 / 3600)\n",
    "LMCGalacticCoordinates, LMCLocalCoordinates = convertEquatorial2GalacticAndLocal(\n",
    "    LMCEquatorialCoordinates, LST=LSTtime, altitude=altitude, label=\"LMC\"\n",
    ")\n",
    "\n",
    "CCEquatorialCoordinates = ((12 + 59/60 + 48.7/3600)*15, 27 + 58/60 + 50/3600)\n",
    "CCGalacticCoordinates, CCLocalCoordinates = convertEquatorial2GalacticAndLocal(\n",
    "    CCEquatorialCoordinates, LST=LSTtime, altitude=altitude, label=\"CC\"\n",
    ")"
   ]
  },
  {
   "cell_type": "code",
   "execution_count": null,
   "metadata": {},
   "outputs": [],
   "source": [
    "def changeAzimuthCounterClockwiseConventionToSymmetrical(phi):\n",
    "    if phi > 180:\n",
    "        return 180 - phi % 180\n",
    "    elif phi < 180:\n",
    "        return -phi\n",
    "    else:\n",
    "        return phi\n",
    "\n",
    "\n",
    "def changeAzimuthClockwiseConventionToSymmetrical(phi):\n",
    "    if phi > 180:\n",
    "        return phi%180-180\n",
    "    elif ((phi > 0) & (phi <180)):\n",
    "        return phi\n",
    "    else:\n",
    "        return phi\n",
    "\n",
    "\n",
    "# mollweide projections\n",
    "projview(\n",
    "    map_LFmap,\n",
    "    graticule=True,\n",
    "    graticule_labels=True,\n",
    "    unit=\"Temperature ln[K]\",\n",
    "    xlabel=\"l\",\n",
    "    ylabel=\"b\",\n",
    "    cb_orientation=\"vertical\",\n",
    "    min=8.4,\n",
    "    max=11.5,\n",
    "    latitude_grid_spacing=30,\n",
    "    projection_type=\"mollweide\",\n",
    "    title=map_LFmap_title + \" - Galactic coordinates\",\n",
    "    xtick_label_color=\"white\",\n",
    "    cmap=cmap,\n",
    ")\n",
    "\n",
    "# mollweide projections\n",
    "projview(\n",
    "    map_LFmap,\n",
    "    graticule=True,\n",
    "    graticule_labels=True,\n",
    "    unit=\"Temperature ln[K]\",\n",
    "    xlabel=\"l\",\n",
    "    ylabel=\"b\",\n",
    "    cb_orientation=\"vertical\",\n",
    "    min=8.4,\n",
    "    max=11.5,\n",
    "    latitude_grid_spacing=30,\n",
    "    projection_type=\"mollweide\",\n",
    "    title=map_LFmap_title + \" - Galactic coordinates\",\n",
    "    xtick_label_color=\"white\",\n",
    "    cmap=cmap,\n",
    "    phi_convention=\"symmetrical\",\n",
    ")\n",
    "\n",
    "\n",
    "coordinateList = [cygnusGalacticCoordinates, casiopeaGalacticCoordinates, velaGalacticCoordinates,\\\n",
    "                 centaurusGalacticCoordinates, LMCGalacticCoordinates, CCGalacticCoordinates]\n",
    "\n",
    "names = [\"Cygnus\", \"Casiopea\", \"Vela\", \"Centaurus\", \"LMC\", \"Coma Cluster\"]\n",
    "\n",
    "for i, coordinate in enumerate(coordinateList):\n",
    "    x = np.deg2rad(\n",
    "        changeAzimuthCounterClockwiseConventionToSymmetrical(\n",
    "            coordinate.l.value))\n",
    "    y = np.deg2rad(coordinate.b.value)\n",
    "    plt.scatter(x, y, color=\"r\", marker=\"x\", linewidth=2, s=70)\n",
    "    plt.annotate(names[i], (x, y), color=\"red\", fontsize=14)"
   ]
  },
  {
   "cell_type": "code",
   "execution_count": null,
   "metadata": {},
   "outputs": [],
   "source": [
    "# mollweide projections\n",
    "projview(\n",
    "    map_LFmap,\n",
    "    coord=[\"G\",\"C\"],\n",
    "    graticule=True,\n",
    "    graticule_labels=True,\n",
    "    unit=\"Temperature ln[K]\",\n",
    "    xlabel=\"l\",\n",
    "    ylabel=\"b\",\n",
    "    cb_orientation=\"vertical\",\n",
    "    min=8.4,\n",
    "    max=11.5,\n",
    "    latitude_grid_spacing=30,\n",
    "    projection_type=\"mollweide\",\n",
    "    title=map_LFmap_title + \" - Equatorial coordinates\",\n",
    "    xtick_label_color=\"white\",\n",
    "    cmap=cmap,\n",
    "    phi_convention=\"symmetrical\",\n",
    ")\n",
    "\n",
    "coordinateList = [\n",
    "    cygnusEquatorialCoordinates,\n",
    "    casiopeaEquatorialCoordinates,\n",
    "    velaEquatorialCoordinates,\n",
    "    centaurusEquatorialCoordinates,\n",
    "    LMCEquatorialCoordinates,\n",
    "    CCEquatorialCoordinates,\n",
    "]\n",
    "\n",
    "\n",
    "names = [\"Cygnus\", \"Casiopea\", \"Vela\", \"Centaurus\", \"LMC\", \"Coma Cluster\"]\n",
    "\n",
    "for i, coordinate in enumerate(coordinateList):\n",
    "    x, y = coordinate\n",
    "    x = np.deg2rad(changeAzimuthCounterClockwiseConventionToSymmetrical(x))\n",
    "    y = np.deg2rad(y)\n",
    "    plt.scatter(x, y, color=\"r\", marker=\"x\", linewidth=2, s=70)\n",
    "    plt.annotate(names[i], (x, y), color=\"red\", fontsize=14)"
   ]
  },
  {
   "cell_type": "code",
   "execution_count": null,
   "metadata": {},
   "outputs": [],
   "source": [
    "# Local coordinates at LST time \"LSTtime\" at altitude \"altitude\"\n",
    "rotAngles = [(180 + (LSTtime * 15)) % 360, -(altitude - 90)]\n",
    "projview(\n",
    "    map_LFmap,\n",
    "    rot=rotAngles,\n",
    "    coord=[\"G\",\"C\"],\n",
    "    graticule=True,\n",
    "    graticule_labels=True,\n",
    "    unit=\"Temperature ln[K]\",\n",
    "    xlabel=\"azimuth\",\n",
    "    ylabel=\"altitude\",\n",
    "    cb_orientation=\"vertical\",\n",
    "    min=8.4,\n",
    "    max=11.5,\n",
    "    latitude_grid_spacing=30,\n",
    "    projection_type=\"mollweide\",\n",
    "    title=map_LFmap_title + \" - Local coordinates\",\n",
    "    xtick_label_color=\"white\",\n",
    "    cmap=cmap,\n",
    "    phi_convention=\"symmetrical\",\n",
    ")\n",
    "\n",
    "projview(\n",
    "    map_LFmap,\n",
    "    rot=rotAngles,\n",
    "    coord=[\"G\",\"C\"],\n",
    "    graticule=True,\n",
    "    graticule_labels=True,\n",
    "    unit=\"Temperature ln[K]\",\n",
    "    xlabel=\"azimuth\",\n",
    "    ylabel=\"altitude\",\n",
    "    cb_orientation=\"vertical\",\n",
    "    min=8.4,\n",
    "    max=11.5,\n",
    "    latitude_grid_spacing=30,\n",
    "    projection_type=\"mollweide\",\n",
    "    title=map_LFmap_title + \" - Local coordinates\",\n",
    "    xtick_label_color=\"white\",\n",
    "    cmap=cmap,\n",
    "    phi_convention=\"clockwise\",\n",
    ")\n",
    "\n",
    "x = [\n",
    "    np.deg2rad(changeAzimuthClockwiseConventionToSymmetrical(cygnusLocalCoordinates[1])),\n",
    "    np.deg2rad(\n",
    "        changeAzimuthClockwiseConventionToSymmetrical(casiopeaLocalCoordinates[1])\n",
    "    ),\n",
    "    np.deg2rad(\n",
    "        changeAzimuthClockwiseConventionToSymmetrical(centaurusLocalCoordinates[1])\n",
    "    ),\n",
    "    np.deg2rad(changeAzimuthClockwiseConventionToSymmetrical(LMCLocalCoordinates[1])),\n",
    "]\n",
    "\n",
    "y = [\n",
    "    np.deg2rad(cygnusLocalCoordinates[0]),\n",
    "    np.deg2rad(casiopeaLocalCoordinates[0]),\n",
    "    np.deg2rad(centaurusLocalCoordinates[0]),\n",
    "    np.deg2rad(LMCLocalCoordinates[0]),\n",
    "]\n",
    "\n",
    "coordinateList = [\n",
    "    cygnusLocalCoordinates,\n",
    "    casiopeaLocalCoordinates,\n",
    "    velaLocalCoordinates,\n",
    "    centaurusLocalCoordinates,\n",
    "    LMCLocalCoordinates,\n",
    "    CCLocalCoordinates,\n",
    "]\n",
    "\n",
    "\n",
    "names = [\"Cygnus\", \"Casiopea\", \"Vela\", \"Centaurus\", \"LMC\", \"Coma Cluster\"]\n",
    "\n",
    "for i, coordinate in enumerate(coordinateList):\n",
    "    y, x = coordinate\n",
    "    x = np.deg2rad(changeAzimuthClockwiseConventionToSymmetrical(x))\n",
    "    y = np.deg2rad(y)\n",
    "    plt.scatter(x, y, color=\"r\", marker=\"x\", linewidth=2, s=70)\n",
    "    plt.annotate(names[i], (x, y), color='red', fontsize=14)"
   ]
  },
  {
   "cell_type": "markdown",
   "metadata": {},
   "source": [
    "## Some other projection types\n",
    "Just a demonstration of what can healpy plot.\n",
    "projection_type :  {'aitoff', 'hammer', 'lambert', 'mollweide', 'cart', '3d', 'polar'}"
   ]
  },
  {
   "cell_type": "code",
   "execution_count": null,
   "metadata": {},
   "outputs": [],
   "source": [
    "# 3d projection, vertical cbar\n",
    "projview(\n",
    "    map_LFmap,\n",
    "    hold=False,\n",
    "    graticule=True,\n",
    "    graticule_labels=True,\n",
    "    projection_type=\"3d\",\n",
    "    unit=\"cbar label\",\n",
    "    xlabel=\"xlabel\",\n",
    "    ylabel=\"ylabel\",\n",
    "    cb_orientation=\"vertical\",\n",
    "    cmap=cmap,\n",
    ")"
   ]
  },
  {
   "cell_type": "code",
   "execution_count": null,
   "metadata": {},
   "outputs": [],
   "source": [
    "# polar projection, vertical cbar\n",
    "projview(\n",
    "    map_LFmap,\n",
    "    graticule=True,\n",
    "    graticule_labels=True,\n",
    "    unit=\"cbar label\",\n",
    "    cb_orientation=\"vertical\",\n",
    "    projection_type=\"polar\",\n",
    "    xtick_label_color=\"white\",\n",
    "    cmap=cmap,\n",
    ")"
   ]
  },
  {
   "cell_type": "code",
   "execution_count": null,
   "metadata": {},
   "outputs": [],
   "source": [
    "# hammer projection, vertical cbar\n",
    "projview(\n",
    "    map_LFmap,\n",
    "    graticule=True,\n",
    "    graticule_labels=True,\n",
    "    unit=\"cbar label\",\n",
    "    cb_orientation=\"vertical\",\n",
    "    projection_type=\"hammer\",\n",
    "    xtick_label_color=\"white\",\n",
    "    cmap=cmap,\n",
    ")"
   ]
  },
  {
   "cell_type": "markdown",
   "metadata": {},
   "source": [
    "## Data dump\n",
    "This is very usefull."
   ]
  },
  {
   "cell_type": "code",
   "execution_count": null,
   "metadata": {
    "scrolled": false
   },
   "outputs": [],
   "source": [
    "# return only data\n",
    "# [longitude,  latitude, grid_map]\n",
    "# longitude,  latitude are 1D arrays to convert them to 2D arrays for the plot use np.meshgrid(longitude,  latitude)\n",
    "# longtitude goes from -pi to pi (-180 to 180 in degs)\n",
    "# latitude goes from -pi/2 to pi/2 (-90 to 90 in degs)\n",
    "longitude, latitude, grid_map = projview(map_LFmap, coord=[\"C\", \"G\"], return_only_data=True, xsize=3600)\n",
    "print(longitude.shape)\n",
    "print(latitude.shape)\n",
    "print(grid_map.shape)"
   ]
  }
 ],
 "metadata": {
  "kernelspec": {
   "display_name": "Python 3",
   "language": "python",
   "name": "python3"
  },
  "language_info": {
   "codemirror_mode": {
    "name": "ipython",
    "version": 3
   },
   "file_extension": ".py",
   "mimetype": "text/x-python",
   "name": "python",
   "nbconvert_exporter": "python",
   "pygments_lexer": "ipython3",
   "version": "3.10.6"
  },
  "latex_envs": {
   "LaTeX_envs_menu_present": true,
   "autoclose": false,
   "autocomplete": true,
   "bibliofile": "biblio.bib",
   "cite_by": "apalike",
   "current_citInitial": 1,
   "eqLabelWithNumbers": true,
   "eqNumInitial": 1,
   "hotkeys": {
    "equation": "Ctrl-E",
    "itemize": "Ctrl-I"
   },
   "labels_anchors": false,
   "latex_user_defs": false,
   "report_style_numbering": false,
   "user_envs_cfg": false
  },
  "toc": {
   "base_numbering": 1,
   "nav_menu": {},
   "number_sections": true,
   "sideBar": true,
   "skip_h1_title": false,
   "title_cell": "Table of Contents",
   "title_sidebar": "Contents",
   "toc_cell": false,
   "toc_position": {
    "height": "calc(100% - 180px)",
    "left": "10px",
    "top": "150px",
    "width": "338.8px"
   },
   "toc_section_display": true,
   "toc_window_display": true
  },
  "varInspector": {
   "cols": {
    "lenName": 16,
    "lenType": 16,
    "lenVar": 40
   },
   "kernels_config": {
    "python": {
     "delete_cmd_postfix": "",
     "delete_cmd_prefix": "del ",
     "library": "var_list.py",
     "varRefreshCmd": "print(var_dic_list())"
    },
    "r": {
     "delete_cmd_postfix": ") ",
     "delete_cmd_prefix": "rm(",
     "library": "var_list.r",
     "varRefreshCmd": "cat(var_dic_list()) "
    }
   },
   "types_to_exclude": [
    "module",
    "function",
    "builtin_function_or_method",
    "instance",
    "_Feature"
   ],
   "window_display": false
  },
  "vscode": {
   "interpreter": {
    "hash": "e7370f93d1d0cde622a1f8e1c04877d8463912d04d973331ad4851f04de6915a"
   }
  }
 },
 "nbformat": 4,
 "nbformat_minor": 4
}
